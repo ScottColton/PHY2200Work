{
 "cells": [
  {
   "cell_type": "markdown",
   "metadata": {},
   "source": [
    "# Continuous Strings and Cloths #\n",
    "\n",
    "In this project, I looked to model the continuous system of a string on a 2D plane. This would be used to represent a cloth or a chladni plate. The continuous system of a string is defined as \n",
    "\n",
    "$$\\frac{d^2X}{dx^2} = -k^2X$$\n",
    "\n",
    "When we move this system to 2D, it gets more complicated to solve analytically. The 2D system is defined as\n",
    "\n",
    "$$\\frac{d^2u(x,y,t)}{dx^2} + \\frac{d^2u(x,y,t)}{dy^2} = \\frac{1}{v^2}\\frac{d^2u(x,y,t)}{dt^2}$$\n",
    "\n",
    "The change to the system that occurs when you want to model the system is the change in the displacement array, which is now a 2D array."
   ]
  },
  {
   "cell_type": "code",
   "execution_count": 55,
   "metadata": {},
   "outputs": [],
   "source": [
    "from vpython import *\n",
    "import numpy as np\n",
    "import matplotlib.pyplot as plt\n",
    "from matplotlib import cm\n",
    "from matplotlib.ticker import LinearLocator"
   ]
  },
  {
   "cell_type": "code",
   "execution_count": 50,
   "metadata": {},
   "outputs": [],
   "source": [
    "def wavemotion(u0,u1):\n",
    "    u2 = np.zeros(N,N)\n",
    "    for i in range(0,len(u1)):\n",
    "        for j in range(0,len(u1)):\n",
    "            u2[i][j] = 2 * (1-b-b) * u1[i][j] - u0[i][j]\n",
    "        \n",
    "    u2[1:-1,1:-1] += b*(u1[1:-1,0:-2] + u1[1:-1,2:] + u1[0:-2,1:-1] +u1[2:,1:-1])\n",
    "    \n",
    "    return u2"
   ]
  },
  {
   "cell_type": "code",
   "execution_count": 42,
   "metadata": {},
   "outputs": [],
   "source": [
    "def gaussian(x):\n",
    "    return np.exp(-(x-5)**2)"
   ]
  },
  {
   "cell_type": "code",
   "execution_count": 43,
   "metadata": {},
   "outputs": [],
   "source": [
    "L = 10.0\n",
    "N = 100\n",
    "b = 1.0\n",
    "tmax = 15\n",
    "\n",
    "x = np.linspace(-L/2,L/2,N+1)\n",
    "y = np.linspace(-L/2,L/2,N+1)\n",
    "xy = np.meshgrid(x, y)\n",
    "z = np.zeros(N+1)\n",
    "u0 = np.meshgrid(gaussian(x), gaussian(x))\n",
    "u1 = np.meshgrid(gaussian(x), gaussian(x))"
   ]
  },
  {
   "cell_type": "code",
   "execution_count": 51,
   "metadata": {},
   "outputs": [
    {
     "ename": "TypeError",
     "evalue": "data type not understood",
     "output_type": "error",
     "traceback": [
      "\u001b[1;31m---------------------------------------------------------------------------\u001b[0m",
      "\u001b[1;31mTypeError\u001b[0m                                 Traceback (most recent call last)",
      "\u001b[1;32m<ipython-input-51-8de376247f67>\u001b[0m in \u001b[0;36m<module>\u001b[1;34m\u001b[0m\n\u001b[0;32m      1\u001b[0m \u001b[1;32mfor\u001b[0m \u001b[0mi\u001b[0m \u001b[1;32min\u001b[0m \u001b[0mrange\u001b[0m\u001b[1;33m(\u001b[0m\u001b[0mN\u001b[0m\u001b[1;33m)\u001b[0m\u001b[1;33m:\u001b[0m\u001b[1;33m\u001b[0m\u001b[1;33m\u001b[0m\u001b[0m\n\u001b[1;32m----> 2\u001b[1;33m     \u001b[0mu2\u001b[0m \u001b[1;33m=\u001b[0m \u001b[0mwavemotion\u001b[0m\u001b[1;33m(\u001b[0m\u001b[0mu0\u001b[0m\u001b[1;33m,\u001b[0m\u001b[0mu1\u001b[0m\u001b[1;33m)\u001b[0m\u001b[1;33m\u001b[0m\u001b[1;33m\u001b[0m\u001b[0m\n\u001b[0m\u001b[0;32m      3\u001b[0m     \u001b[0mu0\u001b[0m\u001b[1;33m,\u001b[0m\u001b[0mu1\u001b[0m \u001b[1;33m=\u001b[0m \u001b[0mu1\u001b[0m\u001b[1;33m,\u001b[0m\u001b[0mu2\u001b[0m\u001b[1;33m\u001b[0m\u001b[1;33m\u001b[0m\u001b[0m\n",
      "\u001b[1;32m<ipython-input-50-0dc26774282f>\u001b[0m in \u001b[0;36mwavemotion\u001b[1;34m(u0, u1)\u001b[0m\n\u001b[0;32m      1\u001b[0m \u001b[1;32mdef\u001b[0m \u001b[0mwavemotion\u001b[0m\u001b[1;33m(\u001b[0m\u001b[0mu0\u001b[0m\u001b[1;33m,\u001b[0m\u001b[0mu1\u001b[0m\u001b[1;33m)\u001b[0m\u001b[1;33m:\u001b[0m\u001b[1;33m\u001b[0m\u001b[1;33m\u001b[0m\u001b[0m\n\u001b[1;32m----> 2\u001b[1;33m     \u001b[0mu2\u001b[0m \u001b[1;33m=\u001b[0m \u001b[0mnp\u001b[0m\u001b[1;33m.\u001b[0m\u001b[0mzeros\u001b[0m\u001b[1;33m(\u001b[0m\u001b[0mN\u001b[0m\u001b[1;33m,\u001b[0m\u001b[0mN\u001b[0m\u001b[1;33m)\u001b[0m\u001b[1;33m\u001b[0m\u001b[1;33m\u001b[0m\u001b[0m\n\u001b[0m\u001b[0;32m      3\u001b[0m     \u001b[1;32mfor\u001b[0m \u001b[0mi\u001b[0m \u001b[1;32min\u001b[0m \u001b[0mrange\u001b[0m\u001b[1;33m(\u001b[0m\u001b[1;36m0\u001b[0m\u001b[1;33m,\u001b[0m\u001b[0mlen\u001b[0m\u001b[1;33m(\u001b[0m\u001b[0mu1\u001b[0m\u001b[1;33m)\u001b[0m\u001b[1;33m)\u001b[0m\u001b[1;33m:\u001b[0m\u001b[1;33m\u001b[0m\u001b[1;33m\u001b[0m\u001b[0m\n\u001b[0;32m      4\u001b[0m         \u001b[1;32mfor\u001b[0m \u001b[0mj\u001b[0m \u001b[1;32min\u001b[0m \u001b[0mrange\u001b[0m\u001b[1;33m(\u001b[0m\u001b[1;36m0\u001b[0m\u001b[1;33m,\u001b[0m\u001b[0mlen\u001b[0m\u001b[1;33m(\u001b[0m\u001b[0mu1\u001b[0m\u001b[1;33m)\u001b[0m\u001b[1;33m)\u001b[0m\u001b[1;33m:\u001b[0m\u001b[1;33m\u001b[0m\u001b[1;33m\u001b[0m\u001b[0m\n\u001b[0;32m      5\u001b[0m             \u001b[0mu2\u001b[0m\u001b[1;33m[\u001b[0m\u001b[0mi\u001b[0m\u001b[1;33m]\u001b[0m\u001b[1;33m[\u001b[0m\u001b[0mj\u001b[0m\u001b[1;33m]\u001b[0m \u001b[1;33m=\u001b[0m \u001b[1;36m2\u001b[0m \u001b[1;33m*\u001b[0m \u001b[1;33m(\u001b[0m\u001b[1;36m1\u001b[0m\u001b[1;33m-\u001b[0m\u001b[0mb\u001b[0m\u001b[1;33m-\u001b[0m\u001b[0mb\u001b[0m\u001b[1;33m)\u001b[0m \u001b[1;33m*\u001b[0m \u001b[0mu1\u001b[0m\u001b[1;33m[\u001b[0m\u001b[0mi\u001b[0m\u001b[1;33m]\u001b[0m\u001b[1;33m[\u001b[0m\u001b[0mj\u001b[0m\u001b[1;33m]\u001b[0m \u001b[1;33m-\u001b[0m \u001b[0mu0\u001b[0m\u001b[1;33m[\u001b[0m\u001b[0mi\u001b[0m\u001b[1;33m]\u001b[0m\u001b[1;33m[\u001b[0m\u001b[0mj\u001b[0m\u001b[1;33m]\u001b[0m\u001b[1;33m\u001b[0m\u001b[1;33m\u001b[0m\u001b[0m\n",
      "\u001b[1;31mTypeError\u001b[0m: data type not understood"
     ]
    }
   ],
   "source": [
    "for i in range(N):\n",
    "    u2 = wavemotion(u0,u1)\n",
    "    u0,u1 = u1,u2"
   ]
  },
  {
   "cell_type": "markdown",
   "metadata": {},
   "source": [
    "This code has been giving me a number of headaches when trying to write it. I am so used to writing code like this in MatLab and I just can not seem to find the resources that I am looking for when it comes to creating the array that I need and animating the results."
   ]
  },
  {
   "cell_type": "markdown",
   "metadata": {},
   "source": [
    "The code itself is relatively simple. We start with the first order differential equation of modelling a string. Instead of several oscillators, we are using a continuos model. In the book, they make their model and animation in an outdated form of vpython that has been completely reworked and will not work in Python 3. It is the same way with the book's way of manipulating a plane. Once we have found the continuous model, however, it is relatively simple to translate that model into 2D. All it requires is a little bit of matrix manipulation. Insstead of the continuous model only going in one direction, any change to one cell will affect all of that cells nearest neighbors. The change in its' nearest neighbors will also affect all of that cells nearest neighbors cause ripples and curves in the cloth or 2D plane."
   ]
  },
  {
   "cell_type": "code",
   "execution_count": null,
   "metadata": {},
   "outputs": [],
   "source": []
  }
 ],
 "metadata": {
  "kernelspec": {
   "display_name": "Python 3",
   "language": "python",
   "name": "python3"
  },
  "language_info": {
   "codemirror_mode": {
    "name": "ipython",
    "version": 3
   },
   "file_extension": ".py",
   "mimetype": "text/x-python",
   "name": "python",
   "nbconvert_exporter": "python",
   "pygments_lexer": "ipython3",
   "version": "3.7.1"
  }
 },
 "nbformat": 4,
 "nbformat_minor": 2
}
