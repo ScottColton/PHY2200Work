{
 "cells": [
  {
   "cell_type": "code",
   "execution_count": 1,
   "id": "given-massage",
   "metadata": {},
   "outputs": [],
   "source": [
    "import numpy as np #used for arrays and numerical functions\n",
    "import pandas as pd #used for reading a data file\n",
    "import matplotlib.pyplot as plt #used for graphing\n",
    "from scipy.optimize import curve_fit #used to find the fit parameters"
   ]
  },
  {
   "cell_type": "markdown",
   "id": "geological-nudist",
   "metadata": {},
   "source": [
    "# Rocket Thrust Vs Time Curve Fitting Project #\n",
    "\n",
    "Code and Writeup by Scott Colton\n",
    "\n",
    "The goal of this project was to create a curve fit for thrust data from estes rocket engines. The fit that I used in this project is outlined in a paper, \"An Eight-Parameter Function for Simulating Model Rocket Engine Thrust Curves\" The equation that they use is a combination of gaussian curves. The equation they use looks like $$ a_1 * e^{-k_1 * ((t-b_1)^2)^{m_1}}  +  a_2 * e^{-k_2 * ((t-b_2)^2)^{m_2}}$$  \n",
    "\n",
    "\n",
    "## Getting the thrust data ##\n",
    "\n",
    "The original thrust data that was given to me by my professor, Dr. Titus. The code was tested and refined using data from thrustcurves.org. The data from that website comes in the form of a RASP file that I transfer to a .txt that is read in using pandas."
   ]
  },
  {
   "cell_type": "code",
   "execution_count": 2,
   "id": "scheduled-spectacular",
   "metadata": {},
   "outputs": [
    {
     "name": "stdout",
     "output_type": "stream",
     "text": [
      "   t (s)     F (N)\n",
      "0   0.00  0.521146\n",
      "1   0.02  1.096904\n",
      "2   0.04  1.854481\n",
      "3   0.06  2.763573\n",
      "4   0.08  4.218120\n"
     ]
    }
   ],
   "source": [
    "#This box will be the reading in and assigning of the y data and the x data for the curve fit\n",
    "df = pd.read_csv('thrust-time-data.txt', sep='\\t')\n",
    "\n",
    "print(df.head())\n",
    "\n"
   ]
  },
  {
   "cell_type": "code",
   "execution_count": 3,
   "id": "instructional-fight",
   "metadata": {},
   "outputs": [],
   "source": [
    "xdata = df['t (s)']\n",
    "ydata = df['F (N)']"
   ]
  },
  {
   "cell_type": "markdown",
   "id": "rational-estate",
   "metadata": {},
   "source": [
    "## Creating the Model ##\n",
    "\n",
    "The model is fairly straight forward, it is an addition of two gaussians. The construction of the model is done using a cterm that contains the second gaussian. The cterm is only active after the intersection of the two gaussians. This intersection occurs when the data begins to plateau. The t-value where the plateau occurs will have to be added in by the user after viewing the data."
   ]
  },
  {
   "cell_type": "code",
   "execution_count": 41,
   "id": "structured-adult",
   "metadata": {},
   "outputs": [],
   "source": [
    "def model(t,a1,k1,b1,m1,a2,b2,k2,m2):\n",
    "    \n",
    "    cterm = np.where(t > .28, a2 * np.exp((-k2) * ((t - b2)**2)**m2), 0)\n",
    "    \n",
    "    thrust = a1 * np.exp((-k1) * ((t - b1)**2)**m1)  + cterm\n",
    "    \n",
    "    return thrust\n",
    "    \n",
    "    \n",
    "tmodel = np.linspace(0,2.5,100)\n",
    "guess = [9,1,1,1,5,1,1,1]\n",
    "\n",
    "params, covariance = curve_fit(model, xdata, ydata, p0 = guess)"
   ]
  },
  {
   "cell_type": "code",
   "execution_count": 42,
   "id": "miniature-summer",
   "metadata": {},
   "outputs": [
    {
     "data": {
      "text/plain": [
       "array([ 7.33325284, 12.42557679,  0.98251201, 16.85224001, -2.74053337,\n",
       "        1.08905376, 54.41790293,  9.69450987])"
      ]
     },
     "execution_count": 42,
     "metadata": {},
     "output_type": "execute_result"
    }
   ],
   "source": [
    "thmodel = model(tmodel, *params)\n",
    "params"
   ]
  },
  {
   "cell_type": "code",
   "execution_count": 46,
   "id": "british-delight",
   "metadata": {},
   "outputs": [
    {
     "data": {
      "text/plain": [
       "Text(0, 0.5, 'Thrust (N)')"
      ]
     },
     "execution_count": 46,
     "metadata": {},
     "output_type": "execute_result"
    },
    {
     "data": {
      "image/png": "[encoded data removed]",
      "text/plain": [
       "<Figure size 432x288 with 1 Axes>"
      ]
     },
     "metadata": {
      "needs_background": "light"
     },
     "output_type": "display_data"
    }
   ],
   "source": [
    "plt.plot(xdata,ydata, 'rx')\n",
    "plt.plot(tmodel,thmodel)\n",
    "plt.title('Graph of Thrust vs Time')\n",
    "plt.xlabel('Time (s)')\n",
    "plt.ylabel('Thrust (N)')"
   ]
  },
  {
   "cell_type": "markdown",
   "id": "entire-suspect",
   "metadata": {},
   "source": [
    "## Results ##\n",
    "\n",
    "The code works and does create a fairly accurate model of the thrust curve. The only things that I would change are: I would like to smooth out the curve fit at the peak, and I would like to make the change between no cterm and having a cterm more fluid. Overall, I would call this project a success"
   ]
  },
  {
   "cell_type": "code",
   "execution_count": null,
   "id": "metric-suicide",
   "metadata": {},
   "outputs": [],
   "source": []
  }
 ],
 "metadata": {
  "kernelspec": {
   "display_name": "Python 3",
   "language": "python",
   "name": "python3"
  },
  "language_info": {
   "codemirror_mode": {
    "name": "ipython",
    "version": 3
   },
   "file_extension": ".py",
   "mimetype": "text/x-python",
   "name": "python",
   "nbconvert_exporter": "python",
   "pygments_lexer": "ipython3",
   "version": "3.8.5"
  }
 },
 "nbformat": 4,
 "nbformat_minor": 5
}
